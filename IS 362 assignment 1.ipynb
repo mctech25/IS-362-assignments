{
 "cells": [
  {
   "cell_type": "code",
   "execution_count": 1,
   "metadata": {},
   "outputs": [
    {
     "name": "stdout",
     "output_type": "stream",
     "text": [
      "1 2 3 4 can do python more\n"
     ]
    }
   ],
   "source": [
    "# Task 1\n",
    "one= 1\n",
    "two =2\n",
    "three = 3\n",
    "four = 4\n",
    "can = \"can\"\n",
    "do = \"do\"\n",
    "python = \"python\"\n",
    "more = \"more\"\n",
    "# Combining variables into a single string\n",
    "output = f\"{one} {two} {three} {four} {can} {do} {python} {more}\"\n",
    "# Print the output\n",
    "print(output)"
   ]
  },
  {
   "cell_type": "code",
   "execution_count": 2,
   "metadata": {},
   "outputs": [
    {
     "name": "stdout",
     "output_type": "stream",
     "text": [
      "The result is 450\n"
     ]
    }
   ],
   "source": [
    "# Task 2 \n",
    "number1 = 15\n",
    "number2 = 30\n",
    "result = number1 * number2 \n",
    "print(\"The result is\", result)"
   ]
  },
  {
   "cell_type": "code",
   "execution_count": 3,
   "metadata": {},
   "outputs": [
    {
     "name": "stdout",
     "output_type": "stream",
     "text": [
      "Given list: [10, 20, 30, 40, 10]\n",
      "result is True\n",
      "Given list: [75, 65, 35, 75, 30]\n",
      "result is False\n"
     ]
    }
   ],
   "source": [
    "# Task 3\n",
    "def check_first_last(numbers):\n",
    "    if not numbers:\n",
    "        return False\n",
    "    # Obtain the first and last element of the list\n",
    "    first = numbers[0]\n",
    "    last = numbers[-1]\n",
    "    # Compare the first and last element of the list and return True or False\n",
    "    return first == last\n",
    "# Test the function with two lists\n",
    "numbers_x = [10, 20, 30, 40, 10]\n",
    "numbers_y = [75, 65, 35, 75, 30]\n",
    "\n",
    "print(\"Given list:\", numbers_x)\n",
    "print(\"result is\", check_first_last(numbers_x))\n",
    "print(\"Given list:\", numbers_y)\n",
    "print(\"result is\", check_first_last(numbers_y))"
   ]
  },
  {
   "cell_type": "code",
   "execution_count": 4,
   "metadata": {},
   "outputs": [
    {
     "name": "stdout",
     "output_type": "stream",
     "text": [
      "Given list is [10, 20, 33, 46, 55]\n",
      "Divisible by 5\n",
      "10\n",
      "20\n",
      "55\n"
     ]
    }
   ],
   "source": [
    "# Task 4\n",
    "numbers = [10, 20, 33, 46, 55]\n",
    "\n",
    "print(\"Given list is\", numbers)\n",
    "print(\"Divisible by 5\")\n",
    "for number in numbers:\n",
    "  # Check if the number is divisible by 5\n",
    "  if number % 5 == 0:\n",
    "    print(number)"
   ]
  },
  {
   "cell_type": "code",
   "execution_count": 5,
   "metadata": {},
   "outputs": [
    {
     "name": "stdout",
     "output_type": "stream",
     "text": [
      "Anjali appeared 2 times\n"
     ]
    }
   ],
   "source": [
    "# Task 5\n",
    "str_x = \"Anjali is good developer. Anjali is a writer\"\n",
    "sub = \"Anjali\"\n",
    "count = str_x.count(sub)\n",
    "print(sub, \"appeared\", count, \"times\")"
   ]
  },
  {
   "cell_type": "code",
   "execution_count": 6,
   "metadata": {},
   "outputs": [
    {
     "name": "stdout",
     "output_type": "stream",
     "text": [
      "1 \n",
      "2 2 \n",
      "3 3 3 \n",
      "4 4 4 4 \n",
      "5 5 5 5 5 \n"
     ]
    }
   ],
   "source": [
    "# Task 6\n",
    "for i in range(1, 6):\n",
    "    for j in range(i):\n",
    "        print(i, end=\" \")\n",
    "    print()"
   ]
  },
  {
   "cell_type": "code",
   "execution_count": 7,
   "metadata": {},
   "outputs": [
    {
     "name": "stdout",
     "output_type": "stream",
     "text": [
      "1\t2\t3\t4\t5\t6\t7\t8\t9\t10\t\n",
      "2\t4\t6\t8\t10\t12\t14\t16\t18\t20\t\n",
      "3\t6\t9\t12\t15\t18\t21\t24\t27\t30\t\n",
      "4\t8\t12\t16\t20\t24\t28\t32\t36\t40\t\n",
      "5\t10\t15\t20\t25\t30\t35\t40\t45\t50\t\n",
      "6\t12\t18\t24\t30\t36\t42\t48\t54\t60\t\n",
      "7\t14\t21\t28\t35\t42\t49\t56\t63\t70\t\n",
      "8\t16\t24\t32\t40\t48\t56\t64\t72\t80\t\n",
      "9\t18\t27\t36\t45\t54\t63\t72\t81\t90\t\n",
      "10\t20\t30\t40\t50\t60\t70\t80\t90\t100\t\n"
     ]
    }
   ],
   "source": [
    "# Task 7\n",
    "# Create a Multiplication Table\n",
    "for x in range(1, 11):\n",
    "        for y in range(1, 11):\n",
    "            z = x * y\n",
    "            print(z, end=\"\\t\")\n",
    "        print()"
   ]
  },
  {
   "cell_type": "code",
   "execution_count": 8,
   "metadata": {},
   "outputs": [
    {
     "name": "stdout",
     "output_type": "stream",
     "text": [
      "Temperatures in Celsius: [ 117.5  -165.63  -47.9     2.83   45.03 -184.7 ]\n"
     ]
    }
   ],
   "source": [
    "# Task 8\n",
    "import numpy as np\n",
    "Temp_K = [390.65, 107.52, 225.25, 275.98, 318.18, 88.45]\n",
    "Temp_K_array = np.array(Temp_K)\n",
    "Temp_C_array = Temp_K_array - 273.15\n",
    "print(\"Temperatures in Celsius:\", Temp_C_array)"
   ]
  },
  {
   "cell_type": "code",
   "execution_count": 15,
   "metadata": {},
   "outputs": [
    {
     "name": "stdout",
     "output_type": "stream",
     "text": [
      "RangeIndex(start=0, stop=6, step=1)\n",
      "\n",
      "   Hair Color\n",
      "0       Brown\n",
      "1        Grey\n",
      "2      Blonde\n",
      "3  Dark Brown\n",
      "4       Black\n",
      "5       Brown\n",
      "\n",
      "  Eye Color\n",
      "0     Hazel\n",
      "1     Green\n",
      "2      Blue\n",
      "3     Brown\n",
      "4     Hazel\n",
      "5      Blue\n",
      "\n",
      "   Student  Weight in Kilograms\n",
      "0    Tommy                   60\n",
      "1     Fred                   80\n",
      "2     Gail                   76\n",
      "3  Melissa                   81\n",
      "4    Randy                   88\n",
      "5    Ariel                   85\n",
      "\n",
      "80\n"
     ]
    }
   ],
   "source": [
    "# Task 9\n",
    "import pandas as pd\n",
    "data = {\"Student\": [\"Tommy\", \"Fred\", \"Gail\", \"Melissa\", \"Randy\", \"Ariel\"],\n",
    "        \"Hair Color\": [\"Brown\", \"Grey\", \"Blonde\", \"Dark Brown\", \"Black\", \"Brown\"],\n",
    "        \"Eye Color\": [\"Hazel\", \"Green\", \"Blue\", \"Brown\", \"Hazel\", \"Blue\"],\n",
    "        \"Weight in Kilograms\": [60, 80, 76, 81, 88, 85]\n",
    "        }\n",
    "\n",
    "df = pd.DataFrame(data)\n",
    "print(df.index)\n",
    "print()\n",
    "print(df[['Hair Color']])\n",
    "print()\n",
    "print(df[['Eye Color']])\n",
    "print()\n",
    "print(df[['Student', 'Weight in Kilograms']])\n",
    "print()\n",
    "print(df['Weight in Kilograms'].iloc[1])"
   ]
  }
 ],
 "metadata": {
  "kernelspec": {
   "display_name": "Python 3",
   "language": "python",
   "name": "python3"
  },
  "language_info": {
   "codemirror_mode": {
    "name": "ipython",
    "version": 3
   },
   "file_extension": ".py",
   "mimetype": "text/x-python",
   "name": "python",
   "nbconvert_exporter": "python",
   "pygments_lexer": "ipython3",
   "version": "3.12.8"
  }
 },
 "nbformat": 4,
 "nbformat_minor": 2
}
